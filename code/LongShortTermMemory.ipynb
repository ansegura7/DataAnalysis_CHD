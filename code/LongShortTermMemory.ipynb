{
 "cells": [
  {
   "cell_type": "markdown",
   "metadata": {},
   "source": [
    "# 5. Long Short Term Memory with Keras"
   ]
  },
  {
   "cell_type": "markdown",
   "metadata": {},
   "source": [
    "- **Created by Andrés Segura Tinoco**\n",
    "- **Created on Nov 21, 2019**"
   ]
  },
  {
   "cell_type": "code",
   "execution_count": 21,
   "metadata": {
    "ExecuteTime": {
     "end_time": "2019-11-21T21:13:59.644325Z",
     "start_time": "2019-11-21T21:13:59.640330Z"
    }
   },
   "outputs": [],
   "source": [
    "# General Libraries\n",
    "import pandas as pd\n",
    "import numpy as np\n",
    "import math\n",
    "from platform import python_version"
   ]
  },
  {
   "cell_type": "code",
   "execution_count": 2,
   "metadata": {
    "ExecuteTime": {
     "end_time": "2019-11-21T21:05:02.930464Z",
     "start_time": "2019-11-21T21:05:01.330358Z"
    }
   },
   "outputs": [],
   "source": [
    "# ML Libraries - Sklearn\n",
    "from sklearn.preprocessing import MinMaxScaler\n",
    "from sklearn.metrics import mean_squared_error\n",
    "from scipy.interpolate import interp1d"
   ]
  },
  {
   "cell_type": "code",
   "execution_count": 3,
   "metadata": {
    "ExecuteTime": {
     "end_time": "2019-11-21T21:05:05.848604Z",
     "start_time": "2019-11-21T21:05:02.933420Z"
    }
   },
   "outputs": [
    {
     "name": "stderr",
     "output_type": "stream",
     "text": [
      "Using TensorFlow backend.\n"
     ]
    }
   ],
   "source": [
    "# ML Libraries - Keras\n",
    "import keras\n",
    "from keras.models import Sequential\n",
    "from keras.layers import Dense\n",
    "from keras.layers import LSTM\n",
    "from keras.optimizers import *"
   ]
  },
  {
   "cell_type": "code",
   "execution_count": 4,
   "metadata": {
    "ExecuteTime": {
     "end_time": "2019-11-21T21:05:06.113614Z",
     "start_time": "2019-11-21T21:05:05.853600Z"
    }
   },
   "outputs": [],
   "source": [
    "# Load Plot libraries\n",
    "import matplotlib.pyplot as plt"
   ]
  },
  {
   "cell_type": "code",
   "execution_count": 5,
   "metadata": {
    "ExecuteTime": {
     "end_time": "2019-11-21T21:05:06.121603Z",
     "start_time": "2019-11-21T21:05:06.115601Z"
    }
   },
   "outputs": [
    {
     "name": "stdout",
     "output_type": "stream",
     "text": [
      "Python version: 3.6.8 , Keras version: 2.2.5 , TensorFlow version: 1.13.2\n"
     ]
    }
   ],
   "source": [
    "# Framework version\n",
    "tf.logging.set_verbosity(tf.logging.ERROR)\n",
    "print('Python version:', python_version(), ', Keras version:', keras.__version__, \", TensorFlow version: \" + tf.__version__)"
   ]
  },
  {
   "cell_type": "markdown",
   "metadata": {},
   "source": [
    "https://machinelearningmastery.com/time-series-prediction-lstm-recurrent-neural-networks-python-keras/"
   ]
  },
  {
   "cell_type": "markdown",
   "metadata": {},
   "source": [
    "https://www.kdnuggets.com/2018/11/keras-long-short-term-memory-lstm-model-predict-stock-prices.html"
   ]
  },
  {
   "cell_type": "markdown",
   "metadata": {},
   "source": [
    "https://towardsdatascience.com/understanding-lstm-and-its-quick-implementation-in-keras-for-sentiment-analysis-af410fd85b47"
   ]
  },
  {
   "cell_type": "markdown",
   "metadata": {},
   "source": [
    "## 5.1. Load and Show Data"
   ]
  },
  {
   "cell_type": "code",
   "execution_count": 6,
   "metadata": {
    "ExecuteTime": {
     "end_time": "2019-11-21T21:05:06.154616Z",
     "start_time": "2019-11-21T21:05:06.123603Z"
    }
   },
   "outputs": [],
   "source": [
    "# Read raw data\n",
    "dataURL = \"../data/dataset-single.csv\"\n",
    "raw_data = pd.read_csv(dataURL)"
   ]
  },
  {
   "cell_type": "code",
   "execution_count": 7,
   "metadata": {
    "ExecuteTime": {
     "end_time": "2019-11-21T21:05:06.195601Z",
     "start_time": "2019-11-21T21:05:06.156600Z"
    }
   },
   "outputs": [
    {
     "data": {
      "text/html": [
       "<div>\n",
       "<style scoped>\n",
       "    .dataframe tbody tr th:only-of-type {\n",
       "        vertical-align: middle;\n",
       "    }\n",
       "\n",
       "    .dataframe tbody tr th {\n",
       "        vertical-align: top;\n",
       "    }\n",
       "\n",
       "    .dataframe thead th {\n",
       "        text-align: right;\n",
       "    }\n",
       "</style>\n",
       "<table border=\"1\" class=\"dataframe\">\n",
       "  <thead>\n",
       "    <tr style=\"text-align: right;\">\n",
       "      <th></th>\n",
       "      <th>WellID</th>\n",
       "      <th>Date</th>\n",
       "      <th>MethodID</th>\n",
       "      <th>CHP</th>\n",
       "      <th>THP</th>\n",
       "      <th>Temp</th>\n",
       "      <th>Choke</th>\n",
       "      <th>Qinj</th>\n",
       "      <th>Bo</th>\n",
       "      <th>Zed</th>\n",
       "      <th>SpgO</th>\n",
       "      <th>SpgGP</th>\n",
       "      <th>Rel_Oper_Press</th>\n",
       "      <th>Rel_Crit_Press</th>\n",
       "      <th>WC</th>\n",
       "      <th>Test_Oil</th>\n",
       "    </tr>\n",
       "  </thead>\n",
       "  <tbody>\n",
       "    <tr>\n",
       "      <th>0</th>\n",
       "      <td>84</td>\n",
       "      <td>7/23/2012</td>\n",
       "      <td>9008</td>\n",
       "      <td>305.930240</td>\n",
       "      <td>226.150470</td>\n",
       "      <td>96.87778</td>\n",
       "      <td>1.725</td>\n",
       "      <td>0.0</td>\n",
       "      <td>1.114856</td>\n",
       "      <td>0.972937</td>\n",
       "      <td>0.92303</td>\n",
       "      <td>0.799</td>\n",
       "      <td>0.739222</td>\n",
       "      <td>0.530322</td>\n",
       "      <td>0.366667</td>\n",
       "      <td>10945.72</td>\n",
       "    </tr>\n",
       "    <tr>\n",
       "      <th>1</th>\n",
       "      <td>84</td>\n",
       "      <td>7/24/2012</td>\n",
       "      <td>9008</td>\n",
       "      <td>306.275013</td>\n",
       "      <td>226.743155</td>\n",
       "      <td>97.46500</td>\n",
       "      <td>1.725</td>\n",
       "      <td>0.0</td>\n",
       "      <td>1.115611</td>\n",
       "      <td>0.973062</td>\n",
       "      <td>0.92303</td>\n",
       "      <td>0.799</td>\n",
       "      <td>0.740325</td>\n",
       "      <td>0.530345</td>\n",
       "      <td>0.323958</td>\n",
       "      <td>NaN</td>\n",
       "    </tr>\n",
       "    <tr>\n",
       "      <th>2</th>\n",
       "      <td>84</td>\n",
       "      <td>7/25/2012</td>\n",
       "      <td>9008</td>\n",
       "      <td>306.347978</td>\n",
       "      <td>227.299286</td>\n",
       "      <td>97.93182</td>\n",
       "      <td>1.725</td>\n",
       "      <td>0.0</td>\n",
       "      <td>1.116182</td>\n",
       "      <td>0.973176</td>\n",
       "      <td>0.92303</td>\n",
       "      <td>0.799</td>\n",
       "      <td>0.741964</td>\n",
       "      <td>0.530387</td>\n",
       "      <td>0.281250</td>\n",
       "      <td>NaN</td>\n",
       "    </tr>\n",
       "    <tr>\n",
       "      <th>3</th>\n",
       "      <td>84</td>\n",
       "      <td>7/26/2012</td>\n",
       "      <td>9008</td>\n",
       "      <td>306.309006</td>\n",
       "      <td>227.826828</td>\n",
       "      <td>99.60455</td>\n",
       "      <td>1.725</td>\n",
       "      <td>0.0</td>\n",
       "      <td>1.118186</td>\n",
       "      <td>0.973606</td>\n",
       "      <td>0.92303</td>\n",
       "      <td>0.799</td>\n",
       "      <td>0.743781</td>\n",
       "      <td>0.530576</td>\n",
       "      <td>0.325000</td>\n",
       "      <td>NaN</td>\n",
       "    </tr>\n",
       "    <tr>\n",
       "      <th>4</th>\n",
       "      <td>84</td>\n",
       "      <td>7/27/2012</td>\n",
       "      <td>9008</td>\n",
       "      <td>306.369882</td>\n",
       "      <td>228.283965</td>\n",
       "      <td>100.27730</td>\n",
       "      <td>1.725</td>\n",
       "      <td>0.0</td>\n",
       "      <td>1.119005</td>\n",
       "      <td>0.973771</td>\n",
       "      <td>0.92303</td>\n",
       "      <td>0.799</td>\n",
       "      <td>0.745125</td>\n",
       "      <td>0.530641</td>\n",
       "      <td>0.335000</td>\n",
       "      <td>NaN</td>\n",
       "    </tr>\n",
       "  </tbody>\n",
       "</table>\n",
       "</div>"
      ],
      "text/plain": [
       "   WellID       Date  MethodID         CHP         THP       Temp  Choke  \\\n",
       "0      84  7/23/2012      9008  305.930240  226.150470   96.87778  1.725   \n",
       "1      84  7/24/2012      9008  306.275013  226.743155   97.46500  1.725   \n",
       "2      84  7/25/2012      9008  306.347978  227.299286   97.93182  1.725   \n",
       "3      84  7/26/2012      9008  306.309006  227.826828   99.60455  1.725   \n",
       "4      84  7/27/2012      9008  306.369882  228.283965  100.27730  1.725   \n",
       "\n",
       "   Qinj        Bo       Zed     SpgO  SpgGP  Rel_Oper_Press  Rel_Crit_Press  \\\n",
       "0   0.0  1.114856  0.972937  0.92303  0.799        0.739222        0.530322   \n",
       "1   0.0  1.115611  0.973062  0.92303  0.799        0.740325        0.530345   \n",
       "2   0.0  1.116182  0.973176  0.92303  0.799        0.741964        0.530387   \n",
       "3   0.0  1.118186  0.973606  0.92303  0.799        0.743781        0.530576   \n",
       "4   0.0  1.119005  0.973771  0.92303  0.799        0.745125        0.530641   \n",
       "\n",
       "         WC  Test_Oil  \n",
       "0  0.366667  10945.72  \n",
       "1  0.323958       NaN  \n",
       "2  0.281250       NaN  \n",
       "3  0.325000       NaN  \n",
       "4  0.335000       NaN  "
      ]
     },
     "execution_count": 7,
     "metadata": {},
     "output_type": "execute_result"
    }
   ],
   "source": [
    "# Preview the first 5 lines of the loaded data\n",
    "raw_data.head()"
   ]
  },
  {
   "cell_type": "code",
   "execution_count": 8,
   "metadata": {
    "ExecuteTime": {
     "end_time": "2019-11-21T21:05:06.206602Z",
     "start_time": "2019-11-21T21:05:06.200601Z"
    }
   },
   "outputs": [],
   "source": [
    "# Create new dataframe\n",
    "new_data = raw_data.copy(deep=True)"
   ]
  },
  {
   "cell_type": "code",
   "execution_count": 9,
   "metadata": {
    "ExecuteTime": {
     "end_time": "2019-11-21T21:05:06.222602Z",
     "start_time": "2019-11-21T21:05:06.211605Z"
    }
   },
   "outputs": [],
   "source": [
    "# Function that interpolates the real value (oil well test)\n",
    "def get_estimated_value(kind_method=''):\n",
    "    ### kind: '', cubic', 'nearest', 'previous', 'next' ###\n",
    "    \n",
    "    temp_data = new_data[[\"Test_Oil\"]].dropna(thresh=1)\n",
    "    x = list(temp_data.index)\n",
    "    y = list(temp_data.Test_Oil)\n",
    "    x_min = min(x)\n",
    "    x_max = max(x)\n",
    "    x_new = np.linspace(x_min, x_max, num=(x_max-x_min)+1, endpoint=True)\n",
    "    \n",
    "    if kind_method == '':\n",
    "        f = interp1d(x, y)\n",
    "    else:\n",
    "        f = interp1d(x, y, kind=kind_method)\n",
    "    \n",
    "    y_new = f(x_new)\n",
    "    return y_new"
   ]
  },
  {
   "cell_type": "code",
   "execution_count": 10,
   "metadata": {
    "ExecuteTime": {
     "end_time": "2019-11-21T21:05:06.232602Z",
     "start_time": "2019-11-21T21:05:06.226602Z"
    }
   },
   "outputs": [],
   "source": [
    "# Create pretty x axis labels\n",
    "def get_x_labels(all_labels):\n",
    "    x_labels = []\n",
    "    for ix in range(len(all_labels)):\n",
    "        if ix % 100 == 0:\n",
    "            x_labels.append(all_labels[ix])\n",
    "        else:\n",
    "            x_labels.append('')\n",
    "    return x_labels"
   ]
  },
  {
   "cell_type": "code",
   "execution_count": 11,
   "metadata": {
    "ExecuteTime": {
     "end_time": "2019-11-21T21:05:06.255602Z",
     "start_time": "2019-11-21T21:05:06.235601Z"
    }
   },
   "outputs": [],
   "source": [
    "# Split into input (X) and output (Y) vectors\n",
    "dataset = new_data.values\n",
    "nCols = dataset.shape[1] - 1\n",
    "x_data = dataset[:, 0:nCols]\n",
    "y_data = dataset[:, nCols]\n",
    "y_estimated = get_estimated_value()\n",
    "xs = range(len(x_data))\n",
    "xticks = get_x_labels(raw_data.Date)"
   ]
  },
  {
   "cell_type": "code",
   "execution_count": 12,
   "metadata": {
    "ExecuteTime": {
     "end_time": "2019-11-21T21:05:12.684605Z",
     "start_time": "2019-11-21T21:05:06.260603Z"
    }
   },
   "outputs": [
    {
     "data": {
      "image/png": "[encoded data removed]",
      "text/plain": [
       "<Figure size 1296x432 with 1 Axes>"
      ]
     },
     "metadata": {
      "needs_background": "light"
     },
     "output_type": "display_data"
    }
   ],
   "source": [
    "# Plot chart\n",
    "plt.figure(figsize = (18, 6))\n",
    "plt.plot(xs, y_estimated, '--', color='green')\n",
    "plt.plot(xs, y_data, 'o', color='darkgreen')\n",
    "plt.legend(['Estimated Oil', 'Well Test Oil'], loc='best')\n",
    "plt.title('Well Tests vs Estimated Oil', fontsize = 14)\n",
    "plt.xlabel('Date', fontsize = 10)\n",
    "plt.ylabel('Oil (bbls)', fontsize = 10)\n",
    "plt.xticks(xs, xticks, fontsize = 10, rotation = 50)\n",
    "plt.show()"
   ]
  },
  {
   "cell_type": "code",
   "execution_count": 13,
   "metadata": {
    "ExecuteTime": {
     "end_time": "2019-11-21T21:05:12.696603Z",
     "start_time": "2019-11-21T21:05:12.687601Z"
    }
   },
   "outputs": [],
   "source": [
    "# Normalize the dataset\n",
    "scaler = MinMaxScaler(feature_range=(0, 1))\n",
    "dataset = np.array([[v] for v in y_estimated])\n",
    "dataset = scaler.fit_transform(dataset)"
   ]
  },
  {
   "cell_type": "code",
   "execution_count": 14,
   "metadata": {
    "ExecuteTime": {
     "end_time": "2019-11-21T21:05:12.730601Z",
     "start_time": "2019-11-21T21:05:12.701602Z"
    }
   },
   "outputs": [
    {
     "name": "stdout",
     "output_type": "stream",
     "text": [
      "2194 60\n"
     ]
    }
   ],
   "source": [
    "# split into train and test sets\n",
    "train_size = len(dataset) - 60\n",
    "test_size = len(dataset) - train_size\n",
    "train, test = dataset[0:train_size,:], dataset[train_size:len(dataset),:]\n",
    "print(len(train), len(test))"
   ]
  },
  {
   "cell_type": "code",
   "execution_count": 15,
   "metadata": {
    "ExecuteTime": {
     "end_time": "2019-11-21T21:05:12.742605Z",
     "start_time": "2019-11-21T21:05:12.736604Z"
    }
   },
   "outputs": [],
   "source": [
    "# convert an array of values into a dataset matrix\n",
    "def create_dataset(dataset, look_back=1):\n",
    "    dataX, dataY = [], []\n",
    "    for i in range(len(dataset)-look_back-1):\n",
    "        a = dataset[i:(i+look_back), 0]\n",
    "        dataX.append(a)\n",
    "        dataY.append(dataset[i + look_back, 0])\n",
    "    \n",
    "    return np.array(dataX), np.array(dataY)"
   ]
  },
  {
   "cell_type": "code",
   "execution_count": 16,
   "metadata": {
    "ExecuteTime": {
     "end_time": "2019-11-21T21:05:12.763599Z",
     "start_time": "2019-11-21T21:05:12.746602Z"
    }
   },
   "outputs": [],
   "source": [
    "# Reshape into X=t and Y=t+1\n",
    "look_back = 1\n",
    "trainX, trainY = create_dataset(train, look_back)\n",
    "testX, testY = create_dataset(test, look_back)"
   ]
  },
  {
   "cell_type": "code",
   "execution_count": 17,
   "metadata": {
    "ExecuteTime": {
     "end_time": "2019-11-21T21:05:12.774600Z",
     "start_time": "2019-11-21T21:05:12.768601Z"
    }
   },
   "outputs": [],
   "source": [
    "# Reshape input to be [samples, time steps, features]\n",
    "trainX = np.reshape(trainX, (trainX.shape[0], 1, trainX.shape[1]))\n",
    "testX = np.reshape(testX, (testX.shape[0], 1, testX.shape[1]))"
   ]
  },
  {
   "cell_type": "code",
   "execution_count": 18,
   "metadata": {
    "ExecuteTime": {
     "end_time": "2019-11-21T21:13:40.122659Z",
     "start_time": "2019-11-21T21:05:12.779603Z"
    }
   },
   "outputs": [
    {
     "data": {
      "text/plain": [
       "<keras.callbacks.History at 0x2006d9b87b8>"
      ]
     },
     "execution_count": 18,
     "metadata": {},
     "output_type": "execute_result"
    }
   ],
   "source": [
    "# Create and fit the LSTM network\n",
    "model = Sequential()\n",
    "model.add(LSTM(4, input_shape=(1, look_back)))\n",
    "model.add(Dense(1))\n",
    "model.compile(loss='mean_squared_error', optimizer='adam')\n",
    "model.fit(trainX, trainY, epochs=100, batch_size=1, verbose=0)"
   ]
  },
  {
   "cell_type": "code",
   "execution_count": 19,
   "metadata": {
    "ExecuteTime": {
     "end_time": "2019-11-21T21:13:40.502658Z",
     "start_time": "2019-11-21T21:13:40.125659Z"
    }
   },
   "outputs": [],
   "source": [
    "# make predictions\n",
    "trainPredict = model.predict(trainX)\n",
    "testPredict = model.predict(testX)\n",
    "\n",
    "# invert predictions\n",
    "trainPredict = scaler.inverse_transform(trainPredict)\n",
    "trainY = scaler.inverse_transform([trainY])\n",
    "testPredict = scaler.inverse_transform(testPredict)\n",
    "testY = scaler.inverse_transform([testY])"
   ]
  },
  {
   "cell_type": "code",
   "execution_count": 22,
   "metadata": {
    "ExecuteTime": {
     "end_time": "2019-11-21T21:14:07.394696Z",
     "start_time": "2019-11-21T21:14:07.377691Z"
    }
   },
   "outputs": [
    {
     "name": "stdout",
     "output_type": "stream",
     "text": [
      "Train Score: 38.94 RMSE\n",
      "Test Score: 43.66 RMSE\n"
     ]
    }
   ],
   "source": [
    "# calculate root mean squared error\n",
    "trainScore = math.sqrt(mean_squared_error(trainY[0], trainPredict[:,0]))\n",
    "print('Train Score: %.2f RMSE' % (trainScore))\n",
    "testScore = math.sqrt(mean_squared_error(testY[0], testPredict[:,0]))\n",
    "print('Test Score: %.2f RMSE' % (testScore))"
   ]
  },
  {
   "cell_type": "code",
   "execution_count": 29,
   "metadata": {
    "ExecuteTime": {
     "end_time": "2019-11-21T21:17:38.546323Z",
     "start_time": "2019-11-21T21:17:38.271320Z"
    }
   },
   "outputs": [
    {
     "data": {
      "image/png": "[encoded data removed]",
      "text/plain": [
       "<Figure size 1296x432 with 1 Axes>"
      ]
     },
     "metadata": {
      "needs_background": "light"
     },
     "output_type": "display_data"
    }
   ],
   "source": [
    "# Shift train predictions for plotting\n",
    "trainPredictPlot = np.empty_like(dataset)\n",
    "trainPredictPlot[:, :] = np.nan\n",
    "trainPredictPlot[look_back:len(trainPredict)+look_back, :] = trainPredict\n",
    "\n",
    "# Shift test predictions for plotting\n",
    "testPredictPlot = np.empty_like(dataset)\n",
    "testPredictPlot[:, :] = np.nan\n",
    "testPredictPlot[len(trainPredict)+(look_back*2)+1:len(dataset)-1, :] = testPredict\n",
    "\n",
    "# Plot baseline and predictions\n",
    "plt.figure(figsize = (18, 6))\n",
    "plt.plot(scaler.inverse_transform(dataset))\n",
    "plt.plot(trainPredictPlot)\n",
    "plt.plot(testPredictPlot)\n",
    "plt.show()"
   ]
  },
  {
   "cell_type": "markdown",
   "metadata": {},
   "source": [
    "<hr>\n",
    "<p><a href=\"https://ansegura7.github.io/DataRegressors/\">« Home</a></p>"
   ]
  }
 ],
 "metadata": {
  "kernelspec": {
   "display_name": "Python 3 (ipykernel)",
   "language": "python",
   "name": "python3"
  },
  "language_info": {
   "codemirror_mode": {
    "name": "ipython",
    "version": 3
   },
   "file_extension": ".py",
   "mimetype": "text/x-python",
   "name": "python",
   "nbconvert_exporter": "python",
   "pygments_lexer": "ipython3",
   "version": "3.8.11"
  },
  "toc": {
   "base_numbering": 1,
   "nav_menu": {},
   "number_sections": false,
   "sideBar": true,
   "skip_h1_title": false,
   "title_cell": "Table of Contents",
   "title_sidebar": "Contents",
   "toc_cell": false,
   "toc_position": {
    "height": "calc(100% - 180px)",
    "left": "10px",
    "top": "150px",
    "width": "257px"
   },
   "toc_section_display": true,
   "toc_window_display": false
  },
  "varInspector": {
   "cols": {
    "lenName": 16,
    "lenType": 16,
    "lenVar": 40
   },
   "kernels_config": {
    "python": {
     "delete_cmd_postfix": "",
     "delete_cmd_prefix": "del ",
     "library": "var_list.py",
     "varRefreshCmd": "print(var_dic_list())"
    },
    "r": {
     "delete_cmd_postfix": ") ",
     "delete_cmd_prefix": "rm(",
     "library": "var_list.r",
     "varRefreshCmd": "cat(var_dic_list()) "
    }
   },
   "position": {
    "height": "771px",
    "left": "1558px",
    "right": "20px",
    "top": "120px",
    "width": "342px"
   },
   "types_to_exclude": [
    "module",
    "function",
    "builtin_function_or_method",
    "instance",
    "_Feature"
   ],
   "window_display": false
  }
 },
 "nbformat": 4,
 "nbformat_minor": 2
}
