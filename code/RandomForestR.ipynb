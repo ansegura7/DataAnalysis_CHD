{
 "cells": [
  {
   "cell_type": "markdown",
   "id": "a2f8205b",
   "metadata": {},
   "source": [
    "# 3. Random Forest Regressor\n",
    "### Ensemble approach"
   ]
  },
  {
   "cell_type": "markdown",
   "id": "0c8d43b5",
   "metadata": {},
   "source": [
    "- **Created by Andrés Segura Tinoco**\n",
    "- **Created on Apr 15, 2022**"
   ]
  },
  {
   "cell_type": "code",
   "execution_count": 1,
   "id": "695c7879",
   "metadata": {},
   "outputs": [],
   "source": [
    "# General Libraries\n",
    "import pandas as pd\n",
    "import numpy as np"
   ]
  },
  {
   "cell_type": "code",
   "execution_count": 2,
   "id": "36eceb8e",
   "metadata": {},
   "outputs": [],
   "source": [
    "# ML Libraries - Sklearn\n",
    "from sklearn.model_selection import train_test_split\n",
    "from scipy.interpolate import interp1d"
   ]
  },
  {
   "cell_type": "code",
   "execution_count": 3,
   "id": "9459eb69",
   "metadata": {},
   "outputs": [],
   "source": [
    "# Load Plot libraries\n",
    "import matplotlib.pyplot as plt"
   ]
  },
  {
   "cell_type": "markdown",
   "id": "de56a084",
   "metadata": {},
   "source": [
    "## 3.1. Load and show data"
   ]
  },
  {
   "cell_type": "code",
   "execution_count": 4,
   "id": "5742c620",
   "metadata": {},
   "outputs": [],
   "source": [
    "# Read raw data\n",
    "dataURL = \"../data/dataset-single.csv\"\n",
    "raw_data = pd.read_csv(dataURL)"
   ]
  },
  {
   "cell_type": "code",
   "execution_count": 5,
   "id": "4ca652ab",
   "metadata": {},
   "outputs": [
    {
     "data": {
      "text/plain": [
       "(2254, 16)"
      ]
     },
     "execution_count": 5,
     "metadata": {},
     "output_type": "execute_result"
    }
   ],
   "source": [
    "# Dataframe rows and columns\n",
    "raw_data.shape"
   ]
  },
  {
   "cell_type": "code",
   "execution_count": 6,
   "id": "3bfdceee",
   "metadata": {},
   "outputs": [
    {
     "data": {
      "text/plain": [
       "WellID              int64\n",
       "Date               object\n",
       "MethodID            int64\n",
       "CHP               float64\n",
       "THP               float64\n",
       "Temp              float64\n",
       "Choke             float64\n",
       "Qinj              float64\n",
       "Bo                float64\n",
       "Zed               float64\n",
       "SpgO              float64\n",
       "SpgGP             float64\n",
       "Rel_Oper_Press    float64\n",
       "Rel_Crit_Press    float64\n",
       "WC                float64\n",
       "Test_Oil          float64\n",
       "dtype: object"
      ]
     },
     "execution_count": 6,
     "metadata": {},
     "output_type": "execute_result"
    }
   ],
   "source": [
    "# Show default data types\n",
    "raw_data.dtypes"
   ]
  },
  {
   "cell_type": "code",
   "execution_count": 7,
   "id": "3eebf662",
   "metadata": {},
   "outputs": [
    {
     "data": {
      "text/html": [
       "<div>\n",
       "<style scoped>\n",
       "    .dataframe tbody tr th:only-of-type {\n",
       "        vertical-align: middle;\n",
       "    }\n",
       "\n",
       "    .dataframe tbody tr th {\n",
       "        vertical-align: top;\n",
       "    }\n",
       "\n",
       "    .dataframe thead th {\n",
       "        text-align: right;\n",
       "    }\n",
       "</style>\n",
       "<table border=\"1\" class=\"dataframe\">\n",
       "  <thead>\n",
       "    <tr style=\"text-align: right;\">\n",
       "      <th></th>\n",
       "      <th>WellID</th>\n",
       "      <th>Date</th>\n",
       "      <th>MethodID</th>\n",
       "      <th>CHP</th>\n",
       "      <th>THP</th>\n",
       "      <th>Temp</th>\n",
       "      <th>Choke</th>\n",
       "      <th>Qinj</th>\n",
       "      <th>Bo</th>\n",
       "      <th>Zed</th>\n",
       "      <th>SpgO</th>\n",
       "      <th>SpgGP</th>\n",
       "      <th>Rel_Oper_Press</th>\n",
       "      <th>Rel_Crit_Press</th>\n",
       "      <th>WC</th>\n",
       "      <th>Test_Oil</th>\n",
       "    </tr>\n",
       "  </thead>\n",
       "  <tbody>\n",
       "    <tr>\n",
       "      <th>0</th>\n",
       "      <td>84</td>\n",
       "      <td>7/23/2012</td>\n",
       "      <td>9008</td>\n",
       "      <td>305.930240</td>\n",
       "      <td>226.150470</td>\n",
       "      <td>96.87778</td>\n",
       "      <td>1.725</td>\n",
       "      <td>0.0</td>\n",
       "      <td>1.114856</td>\n",
       "      <td>0.972937</td>\n",
       "      <td>0.92303</td>\n",
       "      <td>0.799</td>\n",
       "      <td>0.739222</td>\n",
       "      <td>0.530322</td>\n",
       "      <td>0.366667</td>\n",
       "      <td>10945.72</td>\n",
       "    </tr>\n",
       "    <tr>\n",
       "      <th>1</th>\n",
       "      <td>84</td>\n",
       "      <td>7/24/2012</td>\n",
       "      <td>9008</td>\n",
       "      <td>306.275013</td>\n",
       "      <td>226.743155</td>\n",
       "      <td>97.46500</td>\n",
       "      <td>1.725</td>\n",
       "      <td>0.0</td>\n",
       "      <td>1.115611</td>\n",
       "      <td>0.973062</td>\n",
       "      <td>0.92303</td>\n",
       "      <td>0.799</td>\n",
       "      <td>0.740325</td>\n",
       "      <td>0.530345</td>\n",
       "      <td>0.323958</td>\n",
       "      <td>NaN</td>\n",
       "    </tr>\n",
       "    <tr>\n",
       "      <th>2</th>\n",
       "      <td>84</td>\n",
       "      <td>7/25/2012</td>\n",
       "      <td>9008</td>\n",
       "      <td>306.347978</td>\n",
       "      <td>227.299286</td>\n",
       "      <td>97.93182</td>\n",
       "      <td>1.725</td>\n",
       "      <td>0.0</td>\n",
       "      <td>1.116182</td>\n",
       "      <td>0.973176</td>\n",
       "      <td>0.92303</td>\n",
       "      <td>0.799</td>\n",
       "      <td>0.741964</td>\n",
       "      <td>0.530387</td>\n",
       "      <td>0.281250</td>\n",
       "      <td>NaN</td>\n",
       "    </tr>\n",
       "    <tr>\n",
       "      <th>3</th>\n",
       "      <td>84</td>\n",
       "      <td>7/26/2012</td>\n",
       "      <td>9008</td>\n",
       "      <td>306.309006</td>\n",
       "      <td>227.826828</td>\n",
       "      <td>99.60455</td>\n",
       "      <td>1.725</td>\n",
       "      <td>0.0</td>\n",
       "      <td>1.118186</td>\n",
       "      <td>0.973606</td>\n",
       "      <td>0.92303</td>\n",
       "      <td>0.799</td>\n",
       "      <td>0.743781</td>\n",
       "      <td>0.530576</td>\n",
       "      <td>0.325000</td>\n",
       "      <td>NaN</td>\n",
       "    </tr>\n",
       "    <tr>\n",
       "      <th>4</th>\n",
       "      <td>84</td>\n",
       "      <td>7/27/2012</td>\n",
       "      <td>9008</td>\n",
       "      <td>306.369882</td>\n",
       "      <td>228.283965</td>\n",
       "      <td>100.27730</td>\n",
       "      <td>1.725</td>\n",
       "      <td>0.0</td>\n",
       "      <td>1.119005</td>\n",
       "      <td>0.973771</td>\n",
       "      <td>0.92303</td>\n",
       "      <td>0.799</td>\n",
       "      <td>0.745125</td>\n",
       "      <td>0.530641</td>\n",
       "      <td>0.335000</td>\n",
       "      <td>NaN</td>\n",
       "    </tr>\n",
       "  </tbody>\n",
       "</table>\n",
       "</div>"
      ],
      "text/plain": [
       "   WellID       Date  MethodID         CHP         THP       Temp  Choke  \\\n",
       "0      84  7/23/2012      9008  305.930240  226.150470   96.87778  1.725   \n",
       "1      84  7/24/2012      9008  306.275013  226.743155   97.46500  1.725   \n",
       "2      84  7/25/2012      9008  306.347978  227.299286   97.93182  1.725   \n",
       "3      84  7/26/2012      9008  306.309006  227.826828   99.60455  1.725   \n",
       "4      84  7/27/2012      9008  306.369882  228.283965  100.27730  1.725   \n",
       "\n",
       "   Qinj        Bo       Zed     SpgO  SpgGP  Rel_Oper_Press  Rel_Crit_Press  \\\n",
       "0   0.0  1.114856  0.972937  0.92303  0.799        0.739222        0.530322   \n",
       "1   0.0  1.115611  0.973062  0.92303  0.799        0.740325        0.530345   \n",
       "2   0.0  1.116182  0.973176  0.92303  0.799        0.741964        0.530387   \n",
       "3   0.0  1.118186  0.973606  0.92303  0.799        0.743781        0.530576   \n",
       "4   0.0  1.119005  0.973771  0.92303  0.799        0.745125        0.530641   \n",
       "\n",
       "         WC  Test_Oil  \n",
       "0  0.366667  10945.72  \n",
       "1  0.323958       NaN  \n",
       "2  0.281250       NaN  \n",
       "3  0.325000       NaN  \n",
       "4  0.335000       NaN  "
      ]
     },
     "execution_count": 7,
     "metadata": {},
     "output_type": "execute_result"
    }
   ],
   "source": [
    "# Preview the first 5 lines of the loaded data\n",
    "raw_data.head()"
   ]
  },
  {
   "cell_type": "markdown",
   "id": "72693f2b",
   "metadata": {},
   "source": [
    "## 3.2. Data Processing to Learn"
   ]
  },
  {
   "cell_type": "markdown",
   "id": "36cef95c",
   "metadata": {},
   "source": [
    "Now the data is prepared for the learning of the Random Forest model based on the result of the Data Profiling."
   ]
  },
  {
   "cell_type": "code",
   "execution_count": 8,
   "id": "ea267916",
   "metadata": {},
   "outputs": [],
   "source": [
    "# Create new dataframe\n",
    "new_data = raw_data.copy(deep=True)"
   ]
  },
  {
   "cell_type": "code",
   "execution_count": 9,
   "id": "8586c5c8",
   "metadata": {},
   "outputs": [
    {
     "data": {
      "text/plain": [
       "['WellID', 'SpgO', 'SpgGP']"
      ]
     },
     "execution_count": 9,
     "metadata": {},
     "output_type": "execute_result"
    }
   ],
   "source": [
    "# List of variables to eliminate based on the Data Profiling\n",
    "delete_cols = [\"WellID\", \"SpgO\", \"SpgGP\"]\n",
    "delete_cols"
   ]
  },
  {
   "cell_type": "code",
   "execution_count": 10,
   "id": "0323c57f",
   "metadata": {},
   "outputs": [],
   "source": [
    "# Remove non-relevant columns\n",
    "new_data.drop(columns=delete_cols, axis=1, inplace=True)"
   ]
  },
  {
   "cell_type": "code",
   "execution_count": 11,
   "id": "02287f00",
   "metadata": {},
   "outputs": [],
   "source": [
    "# Data quality: convert date to normalized integer\n",
    "date_var = \"Date\"\n",
    "date_fields = [date_var]\n",
    "\n",
    "for field in date_fields:\n",
    "    if field in new_data:\n",
    "        row_data = pd.to_numeric(pd.to_datetime(new_data[field]))\n",
    "        if field == date_var:\n",
    "            date_max = row_data.max()\n",
    "        new_data[field] = (row_data / row_data.max())"
   ]
  },
  {
   "cell_type": "code",
   "execution_count": 12,
   "id": "af9e0705",
   "metadata": {},
   "outputs": [
    {
     "name": "stdout",
     "output_type": "stream",
     "text": [
      "Validation date: 0.9965799506615833 , Test date: 0.9982619421394932\n"
     ]
    }
   ],
   "source": [
    "# Set deadlines values\n",
    "deadline_list = [\"2018-09-01\", \"2018-10-01\"]\n",
    "deadline = pd.to_numeric(pd.to_datetime(deadline_list))\n",
    "date_val = deadline[0] / date_max\n",
    "date_test = deadline[1] / date_max\n",
    "print(\"Validation date:\", date_val, \", Test date:\", date_test)"
   ]
  },
  {
   "cell_type": "markdown",
   "id": "00cd4b6b",
   "metadata": {},
   "source": [
    "#### Showing new dataframe stats"
   ]
  },
  {
   "cell_type": "code",
   "execution_count": 13,
   "id": "c46b59c4",
   "metadata": {},
   "outputs": [
    {
     "data": {
      "text/plain": [
       "Date              float64\n",
       "MethodID            int64\n",
       "CHP               float64\n",
       "THP               float64\n",
       "Temp              float64\n",
       "Choke             float64\n",
       "Qinj              float64\n",
       "Bo                float64\n",
       "Zed               float64\n",
       "Rel_Oper_Press    float64\n",
       "Rel_Crit_Press    float64\n",
       "WC                float64\n",
       "Test_Oil          float64\n",
       "dtype: object"
      ]
     },
     "execution_count": 13,
     "metadata": {},
     "output_type": "execute_result"
    }
   ],
   "source": [
    "# Show default data types\n",
    "new_data.dtypes"
   ]
  },
  {
   "cell_type": "code",
   "execution_count": 14,
   "id": "51710998",
   "metadata": {},
   "outputs": [
    {
     "data": {
      "text/html": [
       "<div>\n",
       "<style scoped>\n",
       "    .dataframe tbody tr th:only-of-type {\n",
       "        vertical-align: middle;\n",
       "    }\n",
       "\n",
       "    .dataframe tbody tr th {\n",
       "        vertical-align: top;\n",
       "    }\n",
       "\n",
       "    .dataframe thead th {\n",
       "        text-align: right;\n",
       "    }\n",
       "</style>\n",
       "<table border=\"1\" class=\"dataframe\">\n",
       "  <thead>\n",
       "    <tr style=\"text-align: right;\">\n",
       "      <th></th>\n",
       "      <th>Date</th>\n",
       "      <th>MethodID</th>\n",
       "      <th>CHP</th>\n",
       "      <th>THP</th>\n",
       "      <th>Temp</th>\n",
       "      <th>Choke</th>\n",
       "      <th>Qinj</th>\n",
       "      <th>Bo</th>\n",
       "      <th>Zed</th>\n",
       "      <th>Rel_Oper_Press</th>\n",
       "      <th>Rel_Crit_Press</th>\n",
       "      <th>WC</th>\n",
       "      <th>Test_Oil</th>\n",
       "    </tr>\n",
       "  </thead>\n",
       "  <tbody>\n",
       "    <tr>\n",
       "      <th>0</th>\n",
       "      <td>0.871496</td>\n",
       "      <td>9008</td>\n",
       "      <td>305.930240</td>\n",
       "      <td>226.150470</td>\n",
       "      <td>96.87778</td>\n",
       "      <td>1.725</td>\n",
       "      <td>0.0</td>\n",
       "      <td>1.114856</td>\n",
       "      <td>0.972937</td>\n",
       "      <td>0.739222</td>\n",
       "      <td>0.530322</td>\n",
       "      <td>0.366667</td>\n",
       "      <td>10945.72</td>\n",
       "    </tr>\n",
       "    <tr>\n",
       "      <th>1</th>\n",
       "      <td>0.871552</td>\n",
       "      <td>9008</td>\n",
       "      <td>306.275013</td>\n",
       "      <td>226.743155</td>\n",
       "      <td>97.46500</td>\n",
       "      <td>1.725</td>\n",
       "      <td>0.0</td>\n",
       "      <td>1.115611</td>\n",
       "      <td>0.973062</td>\n",
       "      <td>0.740325</td>\n",
       "      <td>0.530345</td>\n",
       "      <td>0.323958</td>\n",
       "      <td>NaN</td>\n",
       "    </tr>\n",
       "    <tr>\n",
       "      <th>2</th>\n",
       "      <td>0.871608</td>\n",
       "      <td>9008</td>\n",
       "      <td>306.347978</td>\n",
       "      <td>227.299286</td>\n",
       "      <td>97.93182</td>\n",
       "      <td>1.725</td>\n",
       "      <td>0.0</td>\n",
       "      <td>1.116182</td>\n",
       "      <td>0.973176</td>\n",
       "      <td>0.741964</td>\n",
       "      <td>0.530387</td>\n",
       "      <td>0.281250</td>\n",
       "      <td>NaN</td>\n",
       "    </tr>\n",
       "    <tr>\n",
       "      <th>3</th>\n",
       "      <td>0.871664</td>\n",
       "      <td>9008</td>\n",
       "      <td>306.309006</td>\n",
       "      <td>227.826828</td>\n",
       "      <td>99.60455</td>\n",
       "      <td>1.725</td>\n",
       "      <td>0.0</td>\n",
       "      <td>1.118186</td>\n",
       "      <td>0.973606</td>\n",
       "      <td>0.743781</td>\n",
       "      <td>0.530576</td>\n",
       "      <td>0.325000</td>\n",
       "      <td>NaN</td>\n",
       "    </tr>\n",
       "    <tr>\n",
       "      <th>4</th>\n",
       "      <td>0.871720</td>\n",
       "      <td>9008</td>\n",
       "      <td>306.369882</td>\n",
       "      <td>228.283965</td>\n",
       "      <td>100.27730</td>\n",
       "      <td>1.725</td>\n",
       "      <td>0.0</td>\n",
       "      <td>1.119005</td>\n",
       "      <td>0.973771</td>\n",
       "      <td>0.745125</td>\n",
       "      <td>0.530641</td>\n",
       "      <td>0.335000</td>\n",
       "      <td>NaN</td>\n",
       "    </tr>\n",
       "  </tbody>\n",
       "</table>\n",
       "</div>"
      ],
      "text/plain": [
       "       Date  MethodID         CHP         THP       Temp  Choke  Qinj  \\\n",
       "0  0.871496      9008  305.930240  226.150470   96.87778  1.725   0.0   \n",
       "1  0.871552      9008  306.275013  226.743155   97.46500  1.725   0.0   \n",
       "2  0.871608      9008  306.347978  227.299286   97.93182  1.725   0.0   \n",
       "3  0.871664      9008  306.309006  227.826828   99.60455  1.725   0.0   \n",
       "4  0.871720      9008  306.369882  228.283965  100.27730  1.725   0.0   \n",
       "\n",
       "         Bo       Zed  Rel_Oper_Press  Rel_Crit_Press        WC  Test_Oil  \n",
       "0  1.114856  0.972937        0.739222        0.530322  0.366667  10945.72  \n",
       "1  1.115611  0.973062        0.740325        0.530345  0.323958       NaN  \n",
       "2  1.116182  0.973176        0.741964        0.530387  0.281250       NaN  \n",
       "3  1.118186  0.973606        0.743781        0.530576  0.325000       NaN  \n",
       "4  1.119005  0.973771        0.745125        0.530641  0.335000       NaN  "
      ]
     },
     "execution_count": 14,
     "metadata": {},
     "output_type": "execute_result"
    }
   ],
   "source": [
    "# Preview the first 5 lines of the processed data\n",
    "new_data.head()"
   ]
  },
  {
   "cell_type": "markdown",
   "id": "3d91df4b",
   "metadata": {},
   "source": [
    "## 3.3. Create Train/Validation/Test datasets"
   ]
  },
  {
   "cell_type": "markdown",
   "id": "42f23f3c",
   "metadata": {},
   "source": [
    "Now the input dataset is splitted into 3 new datasets: training (history minus 2 months), validation (last month) and testing (current month)."
   ]
  },
  {
   "cell_type": "code",
   "execution_count": 15,
   "id": "958f8085",
   "metadata": {},
   "outputs": [],
   "source": [
    "# Function that interpolates the real value (oil well test)\n",
    "def get_estimated_value(kind_method=''):\n",
    "    ### kind: '', cubic', 'nearest', 'previous', 'next' ###\n",
    "    \n",
    "    temp_data = new_data[[\"Test_Oil\"]].dropna(thresh=1)\n",
    "    x = list(temp_data.index)\n",
    "    y = list(temp_data.Test_Oil)\n",
    "    x_min = min(x)\n",
    "    x_max = max(x)\n",
    "    x_new = np.linspace(x_min, x_max, num=(x_max-x_min)+1, endpoint=True)\n",
    "    \n",
    "    if kind_method == '':\n",
    "        f = interp1d(x, y)\n",
    "    else:\n",
    "        f = interp1d(x, y, kind=kind_method)\n",
    "    \n",
    "    y_new = f(x_new)\n",
    "    return y_new"
   ]
  },
  {
   "cell_type": "code",
   "execution_count": 16,
   "id": "5cfce538",
   "metadata": {},
   "outputs": [],
   "source": [
    "# Create pretty x axis labels\n",
    "def get_x_labels(all_labels):\n",
    "    x_labels = []\n",
    "    for ix in range(len(all_labels)):\n",
    "        if ix % 100 == 0:\n",
    "            x_labels.append(all_labels[ix])\n",
    "        else:\n",
    "            x_labels.append('')\n",
    "    return x_labels"
   ]
  },
  {
   "cell_type": "code",
   "execution_count": 17,
   "id": "40545605",
   "metadata": {},
   "outputs": [
    {
     "name": "stdout",
     "output_type": "stream",
     "text": [
      "Split validation index: 2192 , split test index: 2222\n"
     ]
    }
   ],
   "source": [
    "# Find deadlines indexes\n",
    "split_val = int(new_data[new_data[date_var] == date_val].index[0])\n",
    "split_test = int(new_data[new_data[date_var] == date_test].index[0])\n",
    "print(\"Split validation index:\", split_val, \", split test index:\", split_test)"
   ]
  },
  {
   "cell_type": "code",
   "execution_count": 18,
   "id": "3ab49bd5",
   "metadata": {},
   "outputs": [],
   "source": [
    "# Split into input (X) and output (Y) vectors\n",
    "dataset = new_data.values\n",
    "nCols = dataset.shape[1] - 1\n",
    "x_data = dataset[:, 0:nCols]\n",
    "y_data = dataset[:, nCols]\n",
    "y_estimated = get_estimated_value()\n",
    "xs = range(len(x_data))\n",
    "xticks = get_x_labels(raw_data.Date)"
   ]
  },
  {
   "cell_type": "code",
   "execution_count": 19,
   "id": "d0e1d1ea",
   "metadata": {},
   "outputs": [
    {
     "data": {
      "image/png": "[encoded data removed]",
      "text/plain": [
       "<Figure size 1296x432 with 1 Axes>"
      ]
     },
     "metadata": {
      "needs_background": "light"
     },
     "output_type": "display_data"
    }
   ],
   "source": [
    "# Plot chart\n",
    "plt.figure(figsize = (18, 6))\n",
    "plt.plot(xs, y_estimated, '--', color='green')\n",
    "plt.plot(xs, y_data, 'o', color='darkgreen')\n",
    "plt.legend(['Estimated Oil', 'Well Test Oil'], loc='best')\n",
    "plt.title('Well Tests vs Estimated Oil', fontsize = 14)\n",
    "plt.xlabel('Date', fontsize = 10)\n",
    "plt.ylabel('Oil (bbls)', fontsize = 10)\n",
    "plt.xticks(xs, xticks, fontsize = 10, rotation = 50)\n",
    "plt.show()"
   ]
  },
  {
   "cell_type": "code",
   "execution_count": 20,
   "id": "f169979a",
   "metadata": {},
   "outputs": [
    {
     "name": "stdout",
     "output_type": "stream",
     "text": [
      "Train rows: 2192 , Validation rows: 30 , Test rows: 32\n"
     ]
    }
   ],
   "source": [
    "# Split into train-validation and test datasets\n",
    "test_perc = (len(x_data) - split_test) / len(x_data)\n",
    "x_train, x_test, y_train, y_test = train_test_split(x_data, y_estimated, test_size=test_perc, shuffle=False)\n",
    "\n",
    "# Split into train and validation datasets\n",
    "val_perc = (len(x_train) - split_val) / len(x_train)\n",
    "x_train, x_val, y_train, y_val = train_test_split(x_train, y_train, test_size=val_perc, shuffle=False)\n",
    "print(\"Train rows:\", len(x_train), \", Validation rows:\", len(x_val), \", Test rows:\", len(x_test))"
   ]
  },
  {
   "cell_type": "markdown",
   "id": "233476c9",
   "metadata": {},
   "source": [
    "## 3.4. Train Model"
   ]
  },
  {
   "cell_type": "code",
   "execution_count": null,
   "id": "b304042b",
   "metadata": {},
   "outputs": [],
   "source": []
  },
  {
   "cell_type": "markdown",
   "id": "18789f9e",
   "metadata": {},
   "source": [
    "<hr>\n",
    "<p><a href=\"https://ansegura7.github.io/DataRegressors/\">« Home</a></p>"
   ]
  }
 ],
 "metadata": {
  "kernelspec": {
   "display_name": "Python 3 (ipykernel)",
   "language": "python",
   "name": "python3"
  },
  "language_info": {
   "codemirror_mode": {
    "name": "ipython",
    "version": 3
   },
   "file_extension": ".py",
   "mimetype": "text/x-python",
   "name": "python",
   "nbconvert_exporter": "python",
   "pygments_lexer": "ipython3",
   "version": "3.9.7"
  }
 },
 "nbformat": 4,
 "nbformat_minor": 5
}
